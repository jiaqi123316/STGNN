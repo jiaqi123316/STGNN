{
 "cells": [
  {
   "cell_type": "code",
   "execution_count": 3,
   "metadata": {},
   "outputs": [],
   "source": [
    "# Import libraries\n",
    "from stgraph_trainer.datasets import load_province_temporal_data\n",
    "from stgraph_trainer.datasets import data_diff\n",
    "from stgraph_trainer.datasets import timeseries_to_supervised\n",
    "from stgraph_trainer.datasets import preprocess_data_for_seq2seq\n",
    "from stgraph_trainer.datasets import inverse_diff\n",
    "from stgraph_trainer.utils import get_config_from_json\n",
    "from stgraph_trainer.utils import compute_metrics\n",
    "from stgraph_trainer.utils import save_predictions\n",
    "from stgraph_trainer.utils import save_metrics\n",
    "from stgraph_trainer.models import Encoder, Decoder, DecoderWithAttention\n",
    "from stgraph_trainer.trainers import Seq2SeqTrainer\n",
    "from stgraph_trainer.callbacks import PostPredictionCallback\n",
    "import os\n",
    "import tensorflow as tf\n",
    "import numpy as np\n",
    "import pandas as pd\n",
    "from functools import partial\n",
    "from tensorflow.keras import Model"
   ]
  },
  {
   "cell_type": "code",
   "execution_count": 4,
   "metadata": {},
   "outputs": [],
   "source": [
    "# Set up configs and parameters\n",
    "data_config_file = os.getcwd() + '/configs/data_config.json'\n",
    "seq2seq_config_file = os.getcwd() + '/configs/seq2seq_config.json'\n",
    "model_name = 'seq2seq'\n",
    "work_dir = os.getcwd() + '/results'"
   ]
  },
  {
   "cell_type": "code",
   "execution_count": 5,
   "metadata": {},
   "outputs": [],
   "source": [
    "data_configs = get_config_from_json(data_config_file)\n",
    "seq2seq_configs = get_config_from_json(seq2seq_config_file)"
   ]
  },
  {
   "cell_type": "code",
   "execution_count": 6,
   "metadata": {},
   "outputs": [],
   "source": [
    "PROVINCES = data_configs['provinces']\n",
    "SPLIT_DATE = data_configs['split_date']\n",
    "TIME_STEPS = int(data_configs['time_steps'])\n",
    "STATUS = data_configs['status']"
   ]
  },
  {
   "cell_type": "code",
   "execution_count": 8,
   "metadata": {},
   "outputs": [],
   "source": [
    "ENC_DENSE_UNITS = int(seq2seq_configs['enc_dense_units'])\n",
    "ENC_UNITS = int(seq2seq_configs['enc_units'])\n",
    "DEC_UNITS = int(seq2seq_configs['dec_units'])\n",
    "BATCH_SIZE = int(seq2seq_configs['batch_size'])\n",
    "DROP_RATE = float(seq2seq_configs['drop_rate'])\n",
    "RECURRENT_DROP_RATE = float(seq2seq_configs['recurrent_drop_rate'])\n",
    "TRIALS = int(seq2seq_configs['trials'])\n",
    "EPOCHS = int(seq2seq_configs['epochs'])"
   ]
  },
  {
   "cell_type": "code",
   "execution_count": 9,
   "metadata": {},
   "outputs": [],
   "source": [
    "# Load and process dataset\n",
    "\n",
    "df = pd.read_csv('../notebooks/stgraph_trainer/datasets/data/water_nitrite (1).csv', index_col=0)\n",
    "df = df.set_index('dateTime')\n",
    "\n",
    "#df = load_province_temporal_data(provinces=PROVINCES, status=STATUS)\n",
    "#df = load_province_temporal_data(provinces=PROVINCES, status=STATUS)\n",
    "\n",
    "X_train, y_train, X_test, y_test, _, raw_test, scaler = preprocess_data_for_seq2seq(df,\n",
    "                                                                                    SPLIT_DATE,\n",
    "                                                                                    TIME_STEPS)\n"
   ]
  },
  {
   "cell_type": "code",
   "execution_count": 13,
   "metadata": {},
   "outputs": [],
   "source": [
    "PROVINCES = df.columns"
   ]
  },
  {
   "cell_type": "code",
   "execution_count": 14,
   "metadata": {},
   "outputs": [
    {
     "data": {
      "text/plain": [
       "(24,)"
      ]
     },
     "execution_count": 14,
     "metadata": {},
     "output_type": "execute_result"
    }
   ],
   "source": [
    "PROVINCES.shape"
   ]
  },
  {
   "cell_type": "code",
   "execution_count": 16,
   "metadata": {},
   "outputs": [
    {
     "name": "stdout",
     "output_type": "stream",
     "text": [
      "(6408, 7) (6408, 1) (2184, 7) (2184, 1)\n"
     ]
    }
   ],
   "source": [
    "n_features = X_train.shape[-1]\n",
    "n_test_samples = len(raw_test) - TIME_STEPS\n",
    "output_size = X_train.shape[-1]\n",
    "\n",
    "print(X_train.shape, y_train.shape, X_test.shape, y_test.shape)"
   ]
  },
  {
   "cell_type": "code",
   "execution_count": 17,
   "metadata": {},
   "outputs": [],
   "source": [
    "# Functions to handle post-prediction\n",
    "# including inverse transform and add back difference\n",
    "# to make predictions back to original scale.\n",
    "def inverse_transform(x, scaler, **kwargs):\n",
    "  original_shape = x.shape\n",
    "  return scaler.inverse_transform(x.reshape((-1, 1))).reshape(original_shape)\n",
    "inv_trans = partial(inverse_transform, scaler=scaler)\n",
    "inv_trans._order = 10\n",
    "\n",
    "def inv_diff_1(x, raw_values):\n",
    "  return x + raw_values\n",
    "inv_diff = partial(inv_diff_1, raw_values=df.iloc[-(n_test_samples + 1):-1].values)\n",
    "inv_diff._order = 20\n",
    "\n",
    "tfms = [inv_trans, inv_diff]"
   ]
  },
  {
   "cell_type": "code",
   "execution_count": 18,
   "metadata": {},
   "outputs": [
    {
     "name": "stderr",
     "output_type": "stream",
     "text": [
      "2024-04-26 14:31:38.122551: W tensorflow/core/framework/local_rendezvous.cc:404] Local rendezvous is aborting with status: OUT_OF_RANGE: End of sequence\n",
      "2024-04-26 14:31:39.012307: W tensorflow/core/framework/local_rendezvous.cc:404] Local rendezvous is aborting with status: OUT_OF_RANGE: End of sequence\n"
     ]
    },
    {
     "name": "stdout",
     "output_type": "stream",
     "text": [
      "Epoch: 1; Elapsed time: 15.27248501777649; Train loss: 0.990317; Test MSE: 0.244370; Test loss RMSE: 0.494338\n"
     ]
    },
    {
     "name": "stderr",
     "output_type": "stream",
     "text": [
      "2024-04-26 14:31:53.733598: W tensorflow/core/framework/local_rendezvous.cc:404] Local rendezvous is aborting with status: OUT_OF_RANGE: End of sequence\n",
      "2024-04-26 14:31:54.612380: W tensorflow/core/framework/local_rendezvous.cc:404] Local rendezvous is aborting with status: OUT_OF_RANGE: End of sequence\n"
     ]
    },
    {
     "name": "stdout",
     "output_type": "stream",
     "text": [
      "Epoch: 2; Elapsed time: 14.720093250274658; Train loss: 0.964666; Test MSE: 0.222963; Test loss RMSE: 0.472190\n"
     ]
    },
    {
     "name": "stderr",
     "output_type": "stream",
     "text": [
      "2024-04-26 14:32:09.349898: W tensorflow/core/framework/local_rendezvous.cc:404] Local rendezvous is aborting with status: OUT_OF_RANGE: End of sequence\n",
      "2024-04-26 14:32:10.230054: W tensorflow/core/framework/local_rendezvous.cc:404] Local rendezvous is aborting with status: OUT_OF_RANGE: End of sequence\n"
     ]
    },
    {
     "name": "stdout",
     "output_type": "stream",
     "text": [
      "Epoch: 3; Elapsed time: 14.736647129058838; Train loss: 0.950813; Test MSE: 0.239964; Test loss RMSE: 0.489861\n"
     ]
    },
    {
     "name": "stderr",
     "output_type": "stream",
     "text": [
      "2024-04-26 14:32:25.092647: W tensorflow/core/framework/local_rendezvous.cc:404] Local rendezvous is aborting with status: OUT_OF_RANGE: End of sequence\n",
      "2024-04-26 14:32:25.969699: W tensorflow/core/framework/local_rendezvous.cc:404] Local rendezvous is aborting with status: OUT_OF_RANGE: End of sequence\n"
     ]
    },
    {
     "name": "stdout",
     "output_type": "stream",
     "text": [
      "Epoch: 4; Elapsed time: 14.86151385307312; Train loss: 0.949858; Test MSE: 0.224474; Test loss RMSE: 0.473787\n"
     ]
    },
    {
     "name": "stderr",
     "output_type": "stream",
     "text": [
      "2024-04-26 14:32:40.685365: W tensorflow/core/framework/local_rendezvous.cc:404] Local rendezvous is aborting with status: OUT_OF_RANGE: End of sequence\n",
      "2024-04-26 14:32:41.562881: W tensorflow/core/framework/local_rendezvous.cc:404] Local rendezvous is aborting with status: OUT_OF_RANGE: End of sequence\n"
     ]
    },
    {
     "name": "stdout",
     "output_type": "stream",
     "text": [
      "Epoch: 5; Elapsed time: 14.714534997940063; Train loss: 0.958784; Test MSE: 0.226065; Test loss RMSE: 0.475463\n"
     ]
    },
    {
     "name": "stderr",
     "output_type": "stream",
     "text": [
      "2024-04-26 14:32:56.334459: W tensorflow/core/framework/local_rendezvous.cc:404] Local rendezvous is aborting with status: OUT_OF_RANGE: End of sequence\n",
      "2024-04-26 14:32:57.216484: W tensorflow/core/framework/local_rendezvous.cc:404] Local rendezvous is aborting with status: OUT_OF_RANGE: End of sequence\n"
     ]
    },
    {
     "name": "stdout",
     "output_type": "stream",
     "text": [
      "Epoch: 6; Elapsed time: 14.770418167114258; Train loss: 0.952256; Test MSE: 0.230841; Test loss RMSE: 0.480459\n"
     ]
    },
    {
     "name": "stderr",
     "output_type": "stream",
     "text": [
      "2024-04-26 14:33:12.036578: W tensorflow/core/framework/local_rendezvous.cc:404] Local rendezvous is aborting with status: OUT_OF_RANGE: End of sequence\n",
      "2024-04-26 14:33:12.909842: W tensorflow/core/framework/local_rendezvous.cc:404] Local rendezvous is aborting with status: OUT_OF_RANGE: End of sequence\n"
     ]
    },
    {
     "name": "stdout",
     "output_type": "stream",
     "text": [
      "Epoch: 7; Elapsed time: 14.818934917449951; Train loss: 0.931506; Test MSE: 0.249509; Test loss RMSE: 0.499509\n"
     ]
    },
    {
     "name": "stderr",
     "output_type": "stream",
     "text": [
      "2024-04-26 14:33:28.195196: W tensorflow/core/framework/local_rendezvous.cc:404] Local rendezvous is aborting with status: OUT_OF_RANGE: End of sequence\n",
      "2024-04-26 14:33:29.083468: W tensorflow/core/framework/local_rendezvous.cc:404] Local rendezvous is aborting with status: OUT_OF_RANGE: End of sequence\n"
     ]
    },
    {
     "name": "stdout",
     "output_type": "stream",
     "text": [
      "Epoch: 8; Elapsed time: 15.284268617630005; Train loss: 0.926843; Test MSE: 0.261403; Test loss RMSE: 0.511276\n"
     ]
    },
    {
     "name": "stderr",
     "output_type": "stream",
     "text": [
      "2024-04-26 14:33:44.075611: W tensorflow/core/framework/local_rendezvous.cc:404] Local rendezvous is aborting with status: OUT_OF_RANGE: End of sequence\n",
      "2024-04-26 14:33:44.967803: W tensorflow/core/framework/local_rendezvous.cc:404] Local rendezvous is aborting with status: OUT_OF_RANGE: End of sequence\n"
     ]
    },
    {
     "name": "stdout",
     "output_type": "stream",
     "text": [
      "Epoch: 9; Elapsed time: 14.990928888320923; Train loss: 0.915710; Test MSE: 0.350841; Test loss RMSE: 0.592319\n"
     ]
    },
    {
     "name": "stderr",
     "output_type": "stream",
     "text": [
      "2024-04-26 14:33:59.956117: W tensorflow/core/framework/local_rendezvous.cc:404] Local rendezvous is aborting with status: OUT_OF_RANGE: End of sequence\n",
      "2024-04-26 14:34:00.852999: W tensorflow/core/framework/local_rendezvous.cc:404] Local rendezvous is aborting with status: OUT_OF_RANGE: End of sequence\n"
     ]
    },
    {
     "name": "stdout",
     "output_type": "stream",
     "text": [
      "Epoch: 10; Elapsed time: 14.98721981048584; Train loss: 0.921617; Test MSE: 0.245535; Test loss RMSE: 0.495515\n",
      "{'epoch': [1, 2, 3, 4, 5, 6, 7, 8, 9, 10], 'train_loss': [0.9903166, 0.9646664, 0.9508135, 0.9498579, 0.95878416, 0.9522557, 0.93150574, 0.9268431, 0.91571015, 0.92161673], 'test_loss': [0.24436995, 0.22296314, 0.23996398, 0.22447397, 0.22606519, 0.23084116, 0.24950929, 0.26140335, 0.35084128, 0.245535], 'elapsed_time': [15.27248501777649, 14.720093250274658, 14.736647129058838, 14.86151385307312, 14.714534997940063, 14.770418167114258, 14.818934917449951, 15.284268617630005, 14.990928888320923, 14.98721981048584]}\n"
     ]
    },
    {
     "name": "stderr",
     "output_type": "stream",
     "text": [
      "2024-04-26 14:34:01.751478: W tensorflow/core/framework/local_rendezvous.cc:404] Local rendezvous is aborting with status: OUT_OF_RANGE: End of sequence\n"
     ]
    },
    {
     "name": "stdout",
     "output_type": "stream",
     "text": [
      "(91, 24)\n",
      "[0.3811764  0.64523068 0.47294179 0.35809691 0.34019696 0.25423555\n",
      " 0.50660504 0.49567193 0.33631173 0.59814109 0.22604181 0.94723069\n",
      " 0.3312158  0.38386246 0.42202052 0.51017935 0.45987457 0.42805406\n",
      " 0.4049897  0.48743044 0.99526102 0.4354469  0.27731915 0.35855691\n",
      " 0.49551487] 0.495514871757273\n",
      "[0.24312427 0.37876897 0.23850238 0.21726018 0.20261785 0.15493674\n",
      " 0.33679008 0.34036549 0.2180336  0.362769   0.16122774 0.56808356\n",
      " 0.19358692 0.25619262 0.28143766 0.36111078 0.29453347 0.29323593\n",
      " 0.28441985 0.32467887 0.72771973 0.32411306 0.19398942 0.21692629\n",
      " 0.29893435] 0.2989343525060304\n"
     ]
    },
    {
     "name": "stderr",
     "output_type": "stream",
     "text": [
      "2024-04-26 14:34:16.990727: W tensorflow/core/framework/local_rendezvous.cc:404] Local rendezvous is aborting with status: OUT_OF_RANGE: End of sequence\n",
      "2024-04-26 14:34:17.880645: W tensorflow/core/framework/local_rendezvous.cc:404] Local rendezvous is aborting with status: OUT_OF_RANGE: End of sequence\n"
     ]
    },
    {
     "name": "stdout",
     "output_type": "stream",
     "text": [
      "Epoch: 1; Elapsed time: 15.217967748641968; Train loss: 0.977968; Test MSE: 0.216318; Test loss RMSE: 0.465100\n"
     ]
    },
    {
     "name": "stderr",
     "output_type": "stream",
     "text": [
      "2024-04-26 14:34:33.114733: W tensorflow/core/framework/local_rendezvous.cc:404] Local rendezvous is aborting with status: OUT_OF_RANGE: End of sequence\n",
      "2024-04-26 14:34:33.994133: W tensorflow/core/framework/local_rendezvous.cc:404] Local rendezvous is aborting with status: OUT_OF_RANGE: End of sequence\n"
     ]
    },
    {
     "name": "stdout",
     "output_type": "stream",
     "text": [
      "Epoch: 2; Elapsed time: 15.232935905456543; Train loss: 0.947576; Test MSE: 0.243120; Test loss RMSE: 0.493072\n"
     ]
    },
    {
     "name": "stderr",
     "output_type": "stream",
     "text": [
      "2024-04-26 14:34:49.091828: W tensorflow/core/framework/local_rendezvous.cc:404] Local rendezvous is aborting with status: OUT_OF_RANGE: End of sequence\n",
      "2024-04-26 14:34:49.999703: W tensorflow/core/framework/local_rendezvous.cc:404] Local rendezvous is aborting with status: OUT_OF_RANGE: End of sequence\n"
     ]
    },
    {
     "name": "stdout",
     "output_type": "stream",
     "text": [
      "Epoch: 3; Elapsed time: 15.096663236618042; Train loss: 0.935890; Test MSE: 0.289423; Test loss RMSE: 0.537980\n"
     ]
    },
    {
     "name": "stderr",
     "output_type": "stream",
     "text": [
      "2024-04-26 14:35:04.973615: W tensorflow/core/framework/local_rendezvous.cc:404] Local rendezvous is aborting with status: OUT_OF_RANGE: End of sequence\n",
      "2024-04-26 14:35:05.848233: W tensorflow/core/framework/local_rendezvous.cc:404] Local rendezvous is aborting with status: OUT_OF_RANGE: End of sequence\n"
     ]
    },
    {
     "name": "stdout",
     "output_type": "stream",
     "text": [
      "Epoch: 4; Elapsed time: 14.9728262424469; Train loss: 0.917005; Test MSE: 0.264649; Test loss RMSE: 0.514441\n"
     ]
    },
    {
     "name": "stderr",
     "output_type": "stream",
     "text": [
      "2024-04-26 14:35:20.716158: W tensorflow/core/framework/local_rendezvous.cc:404] Local rendezvous is aborting with status: OUT_OF_RANGE: End of sequence\n",
      "2024-04-26 14:35:21.591538: W tensorflow/core/framework/local_rendezvous.cc:404] Local rendezvous is aborting with status: OUT_OF_RANGE: End of sequence\n"
     ]
    },
    {
     "name": "stdout",
     "output_type": "stream",
     "text": [
      "Epoch: 5; Elapsed time: 14.866976022720337; Train loss: 0.907967; Test MSE: 0.241413; Test loss RMSE: 0.491338\n"
     ]
    },
    {
     "name": "stderr",
     "output_type": "stream",
     "text": [
      "2024-04-26 14:35:36.701471: W tensorflow/core/framework/local_rendezvous.cc:404] Local rendezvous is aborting with status: OUT_OF_RANGE: End of sequence\n",
      "2024-04-26 14:35:37.596559: W tensorflow/core/framework/local_rendezvous.cc:404] Local rendezvous is aborting with status: OUT_OF_RANGE: End of sequence\n"
     ]
    },
    {
     "name": "stdout",
     "output_type": "stream",
     "text": [
      "Epoch: 6; Elapsed time: 15.108915090560913; Train loss: 0.908355; Test MSE: 0.253170; Test loss RMSE: 0.503160\n"
     ]
    },
    {
     "name": "stderr",
     "output_type": "stream",
     "text": [
      "2024-04-26 14:35:52.857046: W tensorflow/core/framework/local_rendezvous.cc:404] Local rendezvous is aborting with status: OUT_OF_RANGE: End of sequence\n",
      "2024-04-26 14:35:53.727911: W tensorflow/core/framework/local_rendezvous.cc:404] Local rendezvous is aborting with status: OUT_OF_RANGE: End of sequence\n"
     ]
    },
    {
     "name": "stdout",
     "output_type": "stream",
     "text": [
      "Epoch: 7; Elapsed time: 15.259387969970703; Train loss: 0.891353; Test MSE: 0.295167; Test loss RMSE: 0.543293\n"
     ]
    },
    {
     "name": "stderr",
     "output_type": "stream",
     "text": [
      "2024-04-26 14:36:08.821826: W tensorflow/core/framework/local_rendezvous.cc:404] Local rendezvous is aborting with status: OUT_OF_RANGE: End of sequence\n",
      "2024-04-26 14:36:09.718043: W tensorflow/core/framework/local_rendezvous.cc:404] Local rendezvous is aborting with status: OUT_OF_RANGE: End of sequence\n"
     ]
    },
    {
     "name": "stdout",
     "output_type": "stream",
     "text": [
      "Epoch: 8; Elapsed time: 15.092800855636597; Train loss: 0.874872; Test MSE: 0.226426; Test loss RMSE: 0.475842\n"
     ]
    },
    {
     "name": "stderr",
     "output_type": "stream",
     "text": [
      "2024-04-26 14:36:24.856604: W tensorflow/core/framework/local_rendezvous.cc:404] Local rendezvous is aborting with status: OUT_OF_RANGE: End of sequence\n",
      "2024-04-26 14:36:25.783239: W tensorflow/core/framework/local_rendezvous.cc:404] Local rendezvous is aborting with status: OUT_OF_RANGE: End of sequence\n"
     ]
    },
    {
     "name": "stdout",
     "output_type": "stream",
     "text": [
      "Epoch: 9; Elapsed time: 15.136924982070923; Train loss: 0.913806; Test MSE: 0.231587; Test loss RMSE: 0.481235\n"
     ]
    },
    {
     "name": "stderr",
     "output_type": "stream",
     "text": [
      "2024-04-26 14:36:40.869532: W tensorflow/core/framework/local_rendezvous.cc:404] Local rendezvous is aborting with status: OUT_OF_RANGE: End of sequence\n",
      "2024-04-26 14:36:41.748413: W tensorflow/core/framework/local_rendezvous.cc:404] Local rendezvous is aborting with status: OUT_OF_RANGE: End of sequence\n"
     ]
    },
    {
     "name": "stdout",
     "output_type": "stream",
     "text": [
      "Epoch: 10; Elapsed time: 15.085332870483398; Train loss: 0.912669; Test MSE: 0.228633; Test loss RMSE: 0.478156\n",
      "{'epoch': [1, 2, 3, 4, 5, 6, 7, 8, 9, 10], 'train_loss': [0.97796804, 0.9475762, 0.93589044, 0.9170048, 0.9079672, 0.908355, 0.8913528, 0.8748717, 0.91380614, 0.9126694], 'test_loss': [0.21631773, 0.24311963, 0.28942275, 0.26464912, 0.24141295, 0.2531696, 0.29516724, 0.22642605, 0.23158686, 0.22863346], 'elapsed_time': [15.217967748641968, 15.232935905456543, 15.096663236618042, 14.9728262424469, 14.866976022720337, 15.108915090560913, 15.259387969970703, 15.092800855636597, 15.136924982070923, 15.085332870483398]}\n"
     ]
    },
    {
     "name": "stderr",
     "output_type": "stream",
     "text": [
      "2024-04-26 14:36:42.649771: W tensorflow/core/framework/local_rendezvous.cc:404] Local rendezvous is aborting with status: OUT_OF_RANGE: End of sequence\n"
     ]
    },
    {
     "name": "stdout",
     "output_type": "stream",
     "text": [
      "(91, 24)\n",
      "[0.33079273 0.61531933 0.47955342 0.33800946 0.29661136 0.24310648\n",
      " 0.4782123  0.48079044 0.31785275 0.57448214 0.19635663 0.93554415\n",
      " 0.30257059 0.35354897 0.42255934 0.49981785 0.43385985 0.4303792\n",
      " 0.36537578 0.48347979 0.98975997 0.41250491 0.24292008 0.32973817\n",
      " 0.47815633] 0.47815633104993066\n",
      "[0.21555867 0.37285502 0.24557285 0.22500896 0.21197688 0.16742921\n",
      " 0.35574625 0.34939138 0.22760183 0.35413319 0.15137743 0.57143291\n",
      " 0.2061156  0.25480343 0.30412143 0.36218228 0.29617554 0.30259756\n",
      " 0.28221395 0.33975557 0.76592591 0.30369117 0.18430019 0.20565061\n",
      " 0.30231741] 0.3023174095791273\n"
     ]
    },
    {
     "name": "stderr",
     "output_type": "stream",
     "text": [
      "2024-04-26 14:36:57.999750: W tensorflow/core/framework/local_rendezvous.cc:404] Local rendezvous is aborting with status: OUT_OF_RANGE: End of sequence\n",
      "2024-04-26 14:36:58.885059: W tensorflow/core/framework/local_rendezvous.cc:404] Local rendezvous is aborting with status: OUT_OF_RANGE: End of sequence\n"
     ]
    },
    {
     "name": "stdout",
     "output_type": "stream",
     "text": [
      "Epoch: 1; Elapsed time: 15.334384202957153; Train loss: 0.968379; Test MSE: 0.260318; Test loss RMSE: 0.510214\n"
     ]
    },
    {
     "name": "stderr",
     "output_type": "stream",
     "text": [
      "2024-04-26 14:37:13.978260: W tensorflow/core/framework/local_rendezvous.cc:404] Local rendezvous is aborting with status: OUT_OF_RANGE: End of sequence\n",
      "2024-04-26 14:37:14.850045: W tensorflow/core/framework/local_rendezvous.cc:404] Local rendezvous is aborting with status: OUT_OF_RANGE: End of sequence\n"
     ]
    },
    {
     "name": "stdout",
     "output_type": "stream",
     "text": [
      "Epoch: 2; Elapsed time: 15.092062950134277; Train loss: 0.944809; Test MSE: 0.231599; Test loss RMSE: 0.481247\n"
     ]
    },
    {
     "name": "stderr",
     "output_type": "stream",
     "text": [
      "2024-04-26 14:37:29.787305: W tensorflow/core/framework/local_rendezvous.cc:404] Local rendezvous is aborting with status: OUT_OF_RANGE: End of sequence\n",
      "2024-04-26 14:37:30.674992: W tensorflow/core/framework/local_rendezvous.cc:404] Local rendezvous is aborting with status: OUT_OF_RANGE: End of sequence\n"
     ]
    },
    {
     "name": "stdout",
     "output_type": "stream",
     "text": [
      "Epoch: 3; Elapsed time: 14.936201095581055; Train loss: 0.925889; Test MSE: 0.221541; Test loss RMSE: 0.470681\n"
     ]
    },
    {
     "name": "stderr",
     "output_type": "stream",
     "text": [
      "2024-04-26 14:37:45.722229: W tensorflow/core/framework/local_rendezvous.cc:404] Local rendezvous is aborting with status: OUT_OF_RANGE: End of sequence\n",
      "2024-04-26 14:37:46.619521: W tensorflow/core/framework/local_rendezvous.cc:404] Local rendezvous is aborting with status: OUT_OF_RANGE: End of sequence\n"
     ]
    },
    {
     "name": "stdout",
     "output_type": "stream",
     "text": [
      "Epoch: 4; Elapsed time: 15.046349048614502; Train loss: 0.910978; Test MSE: 0.287590; Test loss RMSE: 0.536274\n"
     ]
    },
    {
     "name": "stderr",
     "output_type": "stream",
     "text": [
      "2024-04-26 14:38:01.450272: W tensorflow/core/framework/local_rendezvous.cc:404] Local rendezvous is aborting with status: OUT_OF_RANGE: End of sequence\n",
      "2024-04-26 14:38:02.324981: W tensorflow/core/framework/local_rendezvous.cc:404] Local rendezvous is aborting with status: OUT_OF_RANGE: End of sequence\n"
     ]
    },
    {
     "name": "stdout",
     "output_type": "stream",
     "text": [
      "Epoch: 5; Elapsed time: 14.829693078994751; Train loss: 0.908948; Test MSE: 0.242185; Test loss RMSE: 0.492123\n"
     ]
    },
    {
     "name": "stderr",
     "output_type": "stream",
     "text": [
      "2024-04-26 14:38:17.048195: W tensorflow/core/framework/local_rendezvous.cc:404] Local rendezvous is aborting with status: OUT_OF_RANGE: End of sequence\n",
      "2024-04-26 14:38:17.926647: W tensorflow/core/framework/local_rendezvous.cc:404] Local rendezvous is aborting with status: OUT_OF_RANGE: End of sequence\n"
     ]
    },
    {
     "name": "stdout",
     "output_type": "stream",
     "text": [
      "Epoch: 6; Elapsed time: 14.722166061401367; Train loss: 0.899651; Test MSE: 0.250433; Test loss RMSE: 0.500433\n"
     ]
    },
    {
     "name": "stderr",
     "output_type": "stream",
     "text": [
      "2024-04-26 14:38:32.720875: W tensorflow/core/framework/local_rendezvous.cc:404] Local rendezvous is aborting with status: OUT_OF_RANGE: End of sequence\n",
      "2024-04-26 14:38:33.593746: W tensorflow/core/framework/local_rendezvous.cc:404] Local rendezvous is aborting with status: OUT_OF_RANGE: End of sequence\n"
     ]
    },
    {
     "name": "stdout",
     "output_type": "stream",
     "text": [
      "Epoch: 7; Elapsed time: 14.793223142623901; Train loss: 0.890061; Test MSE: 0.272209; Test loss RMSE: 0.521737\n"
     ]
    },
    {
     "name": "stderr",
     "output_type": "stream",
     "text": [
      "2024-04-26 14:38:48.508182: W tensorflow/core/framework/local_rendezvous.cc:404] Local rendezvous is aborting with status: OUT_OF_RANGE: End of sequence\n",
      "2024-04-26 14:38:49.398265: W tensorflow/core/framework/local_rendezvous.cc:404] Local rendezvous is aborting with status: OUT_OF_RANGE: End of sequence\n"
     ]
    },
    {
     "name": "stdout",
     "output_type": "stream",
     "text": [
      "Epoch: 8; Elapsed time: 14.91345477104187; Train loss: 0.878237; Test MSE: 0.304183; Test loss RMSE: 0.551528\n"
     ]
    },
    {
     "name": "stderr",
     "output_type": "stream",
     "text": [
      "2024-04-26 14:39:04.479441: W tensorflow/core/framework/local_rendezvous.cc:404] Local rendezvous is aborting with status: OUT_OF_RANGE: End of sequence\n",
      "2024-04-26 14:39:05.358936: W tensorflow/core/framework/local_rendezvous.cc:404] Local rendezvous is aborting with status: OUT_OF_RANGE: End of sequence\n"
     ]
    },
    {
     "name": "stdout",
     "output_type": "stream",
     "text": [
      "Epoch: 9; Elapsed time: 15.080022096633911; Train loss: 0.873157; Test MSE: 0.305119; Test loss RMSE: 0.552376\n"
     ]
    },
    {
     "name": "stderr",
     "output_type": "stream",
     "text": [
      "2024-04-26 14:39:20.261635: W tensorflow/core/framework/local_rendezvous.cc:404] Local rendezvous is aborting with status: OUT_OF_RANGE: End of sequence\n",
      "2024-04-26 14:39:21.136825: W tensorflow/core/framework/local_rendezvous.cc:404] Local rendezvous is aborting with status: OUT_OF_RANGE: End of sequence\n"
     ]
    },
    {
     "name": "stdout",
     "output_type": "stream",
     "text": [
      "Epoch: 10; Elapsed time: 14.901750087738037; Train loss: 0.914426; Test MSE: 0.295879; Test loss RMSE: 0.543948\n",
      "{'epoch': [1, 2, 3, 4, 5, 6, 7, 8, 9, 10], 'train_loss': [0.96837926, 0.94480926, 0.9258894, 0.91097784, 0.9089482, 0.8996508, 0.89006096, 0.87823707, 0.8731573, 0.91442627], 'test_loss': [0.26031843, 0.23159856, 0.22154054, 0.28758994, 0.24218501, 0.25043312, 0.27220935, 0.30418336, 0.30511883, 0.29587933], 'elapsed_time': [15.334384202957153, 15.092062950134277, 14.936201095581055, 15.046349048614502, 14.829693078994751, 14.722166061401367, 14.793223142623901, 14.91345477104187, 15.080022096633911, 14.901750087738037]}\n"
     ]
    },
    {
     "name": "stderr",
     "output_type": "stream",
     "text": [
      "2024-04-26 14:39:22.020574: W tensorflow/core/framework/local_rendezvous.cc:404] Local rendezvous is aborting with status: OUT_OF_RANGE: End of sequence\n"
     ]
    },
    {
     "name": "stdout",
     "output_type": "stream",
     "text": [
      "(91, 24)\n",
      "[0.43572151 0.67745118 0.52513028 0.41555532 0.36221032 0.32505301\n",
      " 0.55057986 0.55591286 0.3900658  0.67820278 0.3013612  0.96328898\n",
      " 0.42407756 0.44835212 0.50501956 0.59397814 0.50860401 0.52416861\n",
      " 0.40894619 0.54827055 1.01330125 0.47106524 0.33386318 0.41694613\n",
      " 0.54394792] 0.5439479180204911\n",
      "[0.28201989 0.41663792 0.30102606 0.2794059  0.24439707 0.20761683\n",
      " 0.38407796 0.39968481 0.26715843 0.42074539 0.20419665 0.59863281\n",
      " 0.27001043 0.30776674 0.36094317 0.42358474 0.33365306 0.35318567\n",
      " 0.29609692 0.37864252 0.74538056 0.35963968 0.22633843 0.25865581\n",
      " 0.34664573] 0.3466457276192307\n"
     ]
    },
    {
     "name": "stderr",
     "output_type": "stream",
     "text": [
      "2024-04-26 14:39:36.888741: W tensorflow/core/framework/local_rendezvous.cc:404] Local rendezvous is aborting with status: OUT_OF_RANGE: End of sequence\n",
      "2024-04-26 14:39:37.764981: W tensorflow/core/framework/local_rendezvous.cc:404] Local rendezvous is aborting with status: OUT_OF_RANGE: End of sequence\n"
     ]
    },
    {
     "name": "stdout",
     "output_type": "stream",
     "text": [
      "Epoch: 1; Elapsed time: 14.851050853729248; Train loss: 0.976836; Test MSE: 0.239610; Test loss RMSE: 0.489499\n"
     ]
    },
    {
     "name": "stderr",
     "output_type": "stream",
     "text": [
      "2024-04-26 14:39:52.536470: W tensorflow/core/framework/local_rendezvous.cc:404] Local rendezvous is aborting with status: OUT_OF_RANGE: End of sequence\n",
      "2024-04-26 14:39:53.412407: W tensorflow/core/framework/local_rendezvous.cc:404] Local rendezvous is aborting with status: OUT_OF_RANGE: End of sequence\n"
     ]
    },
    {
     "name": "stdout",
     "output_type": "stream",
     "text": [
      "Epoch: 2; Elapsed time: 14.770516157150269; Train loss: 0.961537; Test MSE: 0.222049; Test loss RMSE: 0.471221\n"
     ]
    },
    {
     "name": "stderr",
     "output_type": "stream",
     "text": [
      "2024-04-26 14:40:08.114312: W tensorflow/core/framework/local_rendezvous.cc:404] Local rendezvous is aborting with status: OUT_OF_RANGE: End of sequence\n",
      "2024-04-26 14:40:08.989742: W tensorflow/core/framework/local_rendezvous.cc:404] Local rendezvous is aborting with status: OUT_OF_RANGE: End of sequence\n"
     ]
    },
    {
     "name": "stdout",
     "output_type": "stream",
     "text": [
      "Epoch: 3; Elapsed time: 14.700892925262451; Train loss: 0.952115; Test MSE: 0.248609; Test loss RMSE: 0.498608\n"
     ]
    },
    {
     "name": "stderr",
     "output_type": "stream",
     "text": [
      "2024-04-26 14:40:24.203140: W tensorflow/core/framework/local_rendezvous.cc:404] Local rendezvous is aborting with status: OUT_OF_RANGE: End of sequence\n",
      "2024-04-26 14:40:25.322686: W tensorflow/core/framework/local_rendezvous.cc:404] Local rendezvous is aborting with status: OUT_OF_RANGE: End of sequence\n"
     ]
    },
    {
     "name": "stdout",
     "output_type": "stream",
     "text": [
      "Epoch: 4; Elapsed time: 15.216506958007812; Train loss: 0.916899; Test MSE: 0.229730; Test loss RMSE: 0.479302\n"
     ]
    },
    {
     "name": "stderr",
     "output_type": "stream",
     "text": [
      "2024-04-26 14:40:40.739691: W tensorflow/core/framework/local_rendezvous.cc:404] Local rendezvous is aborting with status: OUT_OF_RANGE: End of sequence\n",
      "2024-04-26 14:40:41.640548: W tensorflow/core/framework/local_rendezvous.cc:404] Local rendezvous is aborting with status: OUT_OF_RANGE: End of sequence\n"
     ]
    },
    {
     "name": "stdout",
     "output_type": "stream",
     "text": [
      "Epoch: 5; Elapsed time: 15.415603876113892; Train loss: 0.919718; Test MSE: 0.233938; Test loss RMSE: 0.483671\n"
     ]
    },
    {
     "name": "stderr",
     "output_type": "stream",
     "text": [
      "2024-04-26 14:40:56.335000: W tensorflow/core/framework/local_rendezvous.cc:404] Local rendezvous is aborting with status: OUT_OF_RANGE: End of sequence\n",
      "2024-04-26 14:40:57.205086: W tensorflow/core/framework/local_rendezvous.cc:404] Local rendezvous is aborting with status: OUT_OF_RANGE: End of sequence\n"
     ]
    },
    {
     "name": "stdout",
     "output_type": "stream",
     "text": [
      "Epoch: 6; Elapsed time: 14.692846059799194; Train loss: 0.928339; Test MSE: 0.236859; Test loss RMSE: 0.486681\n"
     ]
    },
    {
     "name": "stderr",
     "output_type": "stream",
     "text": [
      "2024-04-26 14:41:11.894703: W tensorflow/core/framework/local_rendezvous.cc:404] Local rendezvous is aborting with status: OUT_OF_RANGE: End of sequence\n",
      "2024-04-26 14:41:12.767381: W tensorflow/core/framework/local_rendezvous.cc:404] Local rendezvous is aborting with status: OUT_OF_RANGE: End of sequence\n"
     ]
    },
    {
     "name": "stdout",
     "output_type": "stream",
     "text": [
      "Epoch: 7; Elapsed time: 14.688673973083496; Train loss: 0.913454; Test MSE: 0.255802; Test loss RMSE: 0.505769\n"
     ]
    },
    {
     "name": "stderr",
     "output_type": "stream",
     "text": [
      "2024-04-26 14:41:27.412291: W tensorflow/core/framework/local_rendezvous.cc:404] Local rendezvous is aborting with status: OUT_OF_RANGE: End of sequence\n",
      "2024-04-26 14:41:28.282528: W tensorflow/core/framework/local_rendezvous.cc:404] Local rendezvous is aborting with status: OUT_OF_RANGE: End of sequence\n"
     ]
    },
    {
     "name": "stdout",
     "output_type": "stream",
     "text": [
      "Epoch: 8; Elapsed time: 14.643834114074707; Train loss: 0.891074; Test MSE: 0.306495; Test loss RMSE: 0.553620\n"
     ]
    },
    {
     "name": "stderr",
     "output_type": "stream",
     "text": [
      "2024-04-26 14:41:42.949924: W tensorflow/core/framework/local_rendezvous.cc:404] Local rendezvous is aborting with status: OUT_OF_RANGE: End of sequence\n",
      "2024-04-26 14:41:43.821151: W tensorflow/core/framework/local_rendezvous.cc:404] Local rendezvous is aborting with status: OUT_OF_RANGE: End of sequence\n"
     ]
    },
    {
     "name": "stdout",
     "output_type": "stream",
     "text": [
      "Epoch: 9; Elapsed time: 14.666433095932007; Train loss: 0.880856; Test MSE: 0.252543; Test loss RMSE: 0.502536\n"
     ]
    },
    {
     "name": "stderr",
     "output_type": "stream",
     "text": [
      "2024-04-26 14:41:58.554034: W tensorflow/core/framework/local_rendezvous.cc:404] Local rendezvous is aborting with status: OUT_OF_RANGE: End of sequence\n",
      "2024-04-26 14:41:59.422282: W tensorflow/core/framework/local_rendezvous.cc:404] Local rendezvous is aborting with status: OUT_OF_RANGE: End of sequence\n"
     ]
    },
    {
     "name": "stdout",
     "output_type": "stream",
     "text": [
      "Epoch: 10; Elapsed time: 14.731890201568604; Train loss: 0.901435; Test MSE: 0.306039; Test loss RMSE: 0.553208\n",
      "{'epoch': [1, 2, 3, 4, 5, 6, 7, 8, 9, 10], 'train_loss': [0.97683626, 0.9615367, 0.95211464, 0.9168987, 0.9197184, 0.92833877, 0.9134537, 0.8910737, 0.88085574, 0.90143526], 'test_loss': [0.23960958, 0.22204895, 0.2486095, 0.22973016, 0.23393759, 0.23685879, 0.2558023, 0.30649534, 0.25254256, 0.30603948], 'elapsed_time': [14.851050853729248, 14.770516157150269, 14.700892925262451, 15.216506958007812, 15.415603876113892, 14.692846059799194, 14.688673973083496, 14.643834114074707, 14.666433095932007, 14.731890201568604]}\n"
     ]
    },
    {
     "name": "stderr",
     "output_type": "stream",
     "text": [
      "2024-04-26 14:42:00.318505: W tensorflow/core/framework/local_rendezvous.cc:404] Local rendezvous is aborting with status: OUT_OF_RANGE: End of sequence\n"
     ]
    },
    {
     "name": "stdout",
     "output_type": "stream",
     "text": [
      "(91, 24)\n",
      "[0.43494964 0.67480772 0.5440107  0.43136857 0.40774189 0.35013013\n",
      " 0.5622288  0.58180368 0.41711054 0.64929569 0.32255437 0.96350338\n",
      " 0.41200447 0.43599009 0.50386219 0.59101937 0.51815215 0.53151492\n",
      " 0.45890288 0.549824   1.03791253 0.46848752 0.35156415 0.44692535\n",
      " 0.55320834] 0.5532083432839585\n",
      "[0.33427392 0.47325099 0.34327294 0.35130781 0.32777413 0.28421757\n",
      " 0.44957989 0.45587548 0.34277441 0.46821658 0.2498304  0.63208411\n",
      " 0.33103021 0.34665141 0.40019202 0.4666373  0.38429477 0.40850619\n",
      " 0.38342582 0.43536185 0.83914122 0.34820085 0.28450858 0.34118138\n",
      " 0.40339958] 0.40339957565705925\n"
     ]
    },
    {
     "name": "stderr",
     "output_type": "stream",
     "text": [
      "2024-04-26 14:42:15.060355: W tensorflow/core/framework/local_rendezvous.cc:404] Local rendezvous is aborting with status: OUT_OF_RANGE: End of sequence\n",
      "2024-04-26 14:42:15.929213: W tensorflow/core/framework/local_rendezvous.cc:404] Local rendezvous is aborting with status: OUT_OF_RANGE: End of sequence\n"
     ]
    },
    {
     "name": "stdout",
     "output_type": "stream",
     "text": [
      "Epoch: 1; Elapsed time: 14.719954013824463; Train loss: 0.964021; Test MSE: 0.224415; Test loss RMSE: 0.473724\n"
     ]
    },
    {
     "name": "stderr",
     "output_type": "stream",
     "text": [
      "2024-04-26 14:42:30.567969: W tensorflow/core/framework/local_rendezvous.cc:404] Local rendezvous is aborting with status: OUT_OF_RANGE: End of sequence\n",
      "2024-04-26 14:42:31.436530: W tensorflow/core/framework/local_rendezvous.cc:404] Local rendezvous is aborting with status: OUT_OF_RANGE: End of sequence\n"
     ]
    },
    {
     "name": "stdout",
     "output_type": "stream",
     "text": [
      "Epoch: 2; Elapsed time: 14.637626886367798; Train loss: 0.957134; Test MSE: 0.276888; Test loss RMSE: 0.526202\n"
     ]
    },
    {
     "name": "stderr",
     "output_type": "stream",
     "text": [
      "2024-04-26 14:42:45.961819: W tensorflow/core/framework/local_rendezvous.cc:404] Local rendezvous is aborting with status: OUT_OF_RANGE: End of sequence\n",
      "2024-04-26 14:42:46.828704: W tensorflow/core/framework/local_rendezvous.cc:404] Local rendezvous is aborting with status: OUT_OF_RANGE: End of sequence\n"
     ]
    },
    {
     "name": "stdout",
     "output_type": "stream",
     "text": [
      "Epoch: 3; Elapsed time: 14.524487972259521; Train loss: 0.958448; Test MSE: 0.236005; Test loss RMSE: 0.485803\n"
     ]
    },
    {
     "name": "stderr",
     "output_type": "stream",
     "text": [
      "2024-04-26 14:43:01.394751: W tensorflow/core/framework/local_rendezvous.cc:404] Local rendezvous is aborting with status: OUT_OF_RANGE: End of sequence\n",
      "2024-04-26 14:43:02.260843: W tensorflow/core/framework/local_rendezvous.cc:404] Local rendezvous is aborting with status: OUT_OF_RANGE: End of sequence\n"
     ]
    },
    {
     "name": "stdout",
     "output_type": "stream",
     "text": [
      "Epoch: 4; Elapsed time: 14.564972162246704; Train loss: 0.925047; Test MSE: 0.319246; Test loss RMSE: 0.565019\n"
     ]
    },
    {
     "name": "stderr",
     "output_type": "stream",
     "text": [
      "2024-04-26 14:43:17.004963: W tensorflow/core/framework/local_rendezvous.cc:404] Local rendezvous is aborting with status: OUT_OF_RANGE: End of sequence\n",
      "2024-04-26 14:43:18.021176: W tensorflow/core/framework/local_rendezvous.cc:404] Local rendezvous is aborting with status: OUT_OF_RANGE: End of sequence\n"
     ]
    },
    {
     "name": "stdout",
     "output_type": "stream",
     "text": [
      "Epoch: 5; Elapsed time: 14.74314022064209; Train loss: 0.920971; Test MSE: 0.255424; Test loss RMSE: 0.505395\n"
     ]
    },
    {
     "name": "stderr",
     "output_type": "stream",
     "text": [
      "2024-04-26 14:43:32.933791: W tensorflow/core/framework/local_rendezvous.cc:404] Local rendezvous is aborting with status: OUT_OF_RANGE: End of sequence\n",
      "2024-04-26 14:43:33.820604: W tensorflow/core/framework/local_rendezvous.cc:404] Local rendezvous is aborting with status: OUT_OF_RANGE: End of sequence\n"
     ]
    },
    {
     "name": "stdout",
     "output_type": "stream",
     "text": [
      "Epoch: 6; Elapsed time: 14.91177487373352; Train loss: 0.896592; Test MSE: 0.264162; Test loss RMSE: 0.513967\n"
     ]
    },
    {
     "name": "stderr",
     "output_type": "stream",
     "text": [
      "2024-04-26 14:43:48.936823: W tensorflow/core/framework/local_rendezvous.cc:404] Local rendezvous is aborting with status: OUT_OF_RANGE: End of sequence\n",
      "2024-04-26 14:43:49.825115: W tensorflow/core/framework/local_rendezvous.cc:404] Local rendezvous is aborting with status: OUT_OF_RANGE: End of sequence\n"
     ]
    },
    {
     "name": "stdout",
     "output_type": "stream",
     "text": [
      "Epoch: 7; Elapsed time: 15.115317821502686; Train loss: 0.898577; Test MSE: 0.248756; Test loss RMSE: 0.498755\n"
     ]
    },
    {
     "name": "stderr",
     "output_type": "stream",
     "text": [
      "2024-04-26 14:44:04.436420: W tensorflow/core/framework/local_rendezvous.cc:404] Local rendezvous is aborting with status: OUT_OF_RANGE: End of sequence\n",
      "2024-04-26 14:44:05.309446: W tensorflow/core/framework/local_rendezvous.cc:404] Local rendezvous is aborting with status: OUT_OF_RANGE: End of sequence\n"
     ]
    },
    {
     "name": "stdout",
     "output_type": "stream",
     "text": [
      "Epoch: 8; Elapsed time: 14.610213994979858; Train loss: 0.901012; Test MSE: 0.230455; Test loss RMSE: 0.480057\n"
     ]
    },
    {
     "name": "stderr",
     "output_type": "stream",
     "text": [
      "2024-04-26 14:44:20.115040: W tensorflow/core/framework/local_rendezvous.cc:404] Local rendezvous is aborting with status: OUT_OF_RANGE: End of sequence\n",
      "2024-04-26 14:44:20.983569: W tensorflow/core/framework/local_rendezvous.cc:404] Local rendezvous is aborting with status: OUT_OF_RANGE: End of sequence\n"
     ]
    },
    {
     "name": "stdout",
     "output_type": "stream",
     "text": [
      "Epoch: 9; Elapsed time: 14.80473804473877; Train loss: 0.897904; Test MSE: 0.270466; Test loss RMSE: 0.520064\n"
     ]
    },
    {
     "name": "stderr",
     "output_type": "stream",
     "text": [
      "2024-04-26 14:44:35.507864: W tensorflow/core/framework/local_rendezvous.cc:404] Local rendezvous is aborting with status: OUT_OF_RANGE: End of sequence\n",
      "2024-04-26 14:44:36.374757: W tensorflow/core/framework/local_rendezvous.cc:404] Local rendezvous is aborting with status: OUT_OF_RANGE: End of sequence\n"
     ]
    },
    {
     "name": "stdout",
     "output_type": "stream",
     "text": [
      "Epoch: 10; Elapsed time: 14.523262023925781; Train loss: 0.867024; Test MSE: 0.371971; Test loss RMSE: 0.609895\n",
      "{'epoch': [1, 2, 3, 4, 5, 6, 7, 8, 9, 10], 'train_loss': [0.9640213, 0.9571342, 0.95844764, 0.9250469, 0.9209707, 0.8965923, 0.8985773, 0.9010122, 0.897904, 0.86702424], 'test_loss': [0.22441468, 0.27688804, 0.23600501, 0.31924626, 0.2554238, 0.2641621, 0.24875641, 0.23045456, 0.27046606, 0.37197146], 'elapsed_time': [14.719954013824463, 14.637626886367798, 14.524487972259521, 14.564972162246704, 14.74314022064209, 14.91177487373352, 15.115317821502686, 14.610213994979858, 14.80473804473877, 14.523262023925781]}\n",
      "(91, 24)\n",
      "[0.49832389 0.75331666 0.59459796 0.49294256 0.4855075  0.42283211\n",
      " 0.64106694 0.62189209 0.44778279 0.71050406 0.40824906 0.98998977\n",
      " 0.51642306 0.48853525 0.5603007  0.65817125 0.57950097 0.54868588\n",
      " 0.53985774 0.59172869 1.07350973 0.5428068  0.42745338 0.53845947\n",
      " 0.60989464] 0.60989463879148\n",
      "[0.32503857 0.48885568 0.37910907 0.34363541 0.30635798 0.2799167\n",
      " 0.44331232 0.45787114 0.29639702 0.45488383 0.26959788 0.63219631\n",
      " 0.31796202 0.35036714 0.39878901 0.44936141 0.39610503 0.38081772\n",
      " 0.37201407 0.40685148 0.79036508 0.40383187 0.28556561 0.33916366\n",
      " 0.39868192] 0.39868191700691147\n"
     ]
    },
    {
     "name": "stderr",
     "output_type": "stream",
     "text": [
      "2024-04-26 14:44:37.247878: W tensorflow/core/framework/local_rendezvous.cc:404] Local rendezvous is aborting with status: OUT_OF_RANGE: End of sequence\n"
     ]
    }
   ],
   "source": [
    "# Create model, train and evaluate\n",
    "rmse_results = []\n",
    "mae_results = []\n",
    "\n",
    "for trial in range(TRIALS):\n",
    "  encoder = Encoder(ENC_DENSE_UNITS,\n",
    "                    ENC_UNITS,\n",
    "                    BATCH_SIZE,\n",
    "                    dropout=DROP_RATE,\n",
    "                    recurrent_dropout=RECURRENT_DROP_RATE)\n",
    "\n",
    "  # decoder = Decoder(1,\n",
    "  #                   DEC_UNITS,\n",
    "  #                   BATCH_SIZE,\n",
    "  #                   dropout=DROP_RATE,\n",
    "  #                   recurrent_dropout=RECURRENT_DROP_RATE)\n",
    "\n",
    "  decoder = DecoderWithAttention(1,\n",
    "                                 DEC_UNITS,\n",
    "                                 BATCH_SIZE,\n",
    "                                 dropout=DROP_RATE,\n",
    "                                 recurrent_dropout=RECURRENT_DROP_RATE)\n",
    "  \n",
    "  model = [encoder, decoder]\n",
    "\n",
    "  train_ds = tf.data.Dataset.from_tensor_slices((X_train, y_train)) \\\n",
    "                            .shuffle(10000) \\\n",
    "                            .batch(BATCH_SIZE, drop_remainder=True)\n",
    "  test_ds = tf.data.Dataset.from_tensor_slices((X_test, y_test)).batch(BATCH_SIZE * 2)\n",
    "\n",
    "  loss_func = tf.losses.MeanSquaredError()\n",
    "  optimizer = tf.optimizers.Adam(learning_rate=0.01)\n",
    "\n",
    "  trainer = Seq2SeqTrainer(model,\n",
    "                           train_ds,\n",
    "                           test_ds,\n",
    "                           loss_func,\n",
    "                           optimizer,\n",
    "                           callbacks=[PostPredictionCallback(funcs=tfms)],\n",
    "                           raw_test=df.iloc[-n_test_samples:].values)\n",
    "\n",
    "  history = trainer.train(EPOCHS)\n",
    "  print(history)\n",
    "\n",
    "  predict = trainer.predict()\n",
    "  save_predictions(predict,\n",
    "                   model_name,\n",
    "                   n_exp=trial,\n",
    "                   columns=PROVINCES,\n",
    "                   index=df.iloc[-n_test_samples:].index,\n",
    "                   path=work_dir)\n",
    "  print(predict.shape)\n",
    "\n",
    "  m, m_avg = compute_metrics(df.iloc[-n_test_samples:], predict, metric='rmse')\n",
    "  m = np.append(m, m_avg)\n",
    "  rmse_results.append(m)\n",
    "  print(m, m_avg)\n",
    "  \n",
    "  m, m_avg = compute_metrics(df.iloc[-n_test_samples:], predict, metric='mae')\n",
    "  m = np.append(m, m_avg)\n",
    "  mae_results.append(m)\n",
    "  print(m, m_avg)"
   ]
  },
  {
   "cell_type": "code",
   "execution_count": 20,
   "metadata": {},
   "outputs": [
    {
     "data": {
      "text/plain": [
       "[array([0.3811764 , 0.64523068, 0.47294179, 0.35809691, 0.34019696,\n",
       "        0.25423555, 0.50660504, 0.49567193, 0.33631173, 0.59814109,\n",
       "        0.22604181, 0.94723069, 0.3312158 , 0.38386246, 0.42202052,\n",
       "        0.51017935, 0.45987457, 0.42805406, 0.4049897 , 0.48743044,\n",
       "        0.99526102, 0.4354469 , 0.27731915, 0.35855691, 0.49551487]),\n",
       " array([0.33079273, 0.61531933, 0.47955342, 0.33800946, 0.29661136,\n",
       "        0.24310648, 0.4782123 , 0.48079044, 0.31785275, 0.57448214,\n",
       "        0.19635663, 0.93554415, 0.30257059, 0.35354897, 0.42255934,\n",
       "        0.49981785, 0.43385985, 0.4303792 , 0.36537578, 0.48347979,\n",
       "        0.98975997, 0.41250491, 0.24292008, 0.32973817, 0.47815633]),\n",
       " array([0.43572151, 0.67745118, 0.52513028, 0.41555532, 0.36221032,\n",
       "        0.32505301, 0.55057986, 0.55591286, 0.3900658 , 0.67820278,\n",
       "        0.3013612 , 0.96328898, 0.42407756, 0.44835212, 0.50501956,\n",
       "        0.59397814, 0.50860401, 0.52416861, 0.40894619, 0.54827055,\n",
       "        1.01330125, 0.47106524, 0.33386318, 0.41694613, 0.54394792]),\n",
       " array([0.43494964, 0.67480772, 0.5440107 , 0.43136857, 0.40774189,\n",
       "        0.35013013, 0.5622288 , 0.58180368, 0.41711054, 0.64929569,\n",
       "        0.32255437, 0.96350338, 0.41200447, 0.43599009, 0.50386219,\n",
       "        0.59101937, 0.51815215, 0.53151492, 0.45890288, 0.549824  ,\n",
       "        1.03791253, 0.46848752, 0.35156415, 0.44692535, 0.55320834]),\n",
       " array([0.49832389, 0.75331666, 0.59459796, 0.49294256, 0.4855075 ,\n",
       "        0.42283211, 0.64106694, 0.62189209, 0.44778279, 0.71050406,\n",
       "        0.40824906, 0.98998977, 0.51642306, 0.48853525, 0.5603007 ,\n",
       "        0.65817125, 0.57950097, 0.54868588, 0.53985774, 0.59172869,\n",
       "        1.07350973, 0.5428068 , 0.42745338, 0.53845947, 0.60989464])]"
      ]
     },
     "execution_count": 20,
     "metadata": {},
     "output_type": "execute_result"
    }
   ],
   "source": []
  }
 ],
 "metadata": {
  "kernelspec": {
   "display_name": "Python 3",
   "language": "python",
   "name": "python3"
  },
  "language_info": {
   "codemirror_mode": {
    "name": "ipython",
    "version": 3
   },
   "file_extension": ".py",
   "mimetype": "text/x-python",
   "name": "python",
   "nbconvert_exporter": "python",
   "pygments_lexer": "ipython3",
   "version": "3.12.0"
  }
 },
 "nbformat": 4,
 "nbformat_minor": 2
}
